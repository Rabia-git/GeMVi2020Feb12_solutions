{
 "cells": [
  {
   "cell_type": "markdown",
   "metadata": {},
   "source": [
    "# Workshop 1. SOLUTIONS\n",
    "\n",
    "#### Contact information of this notebook: Dr Rabia Aziza (rabia.aziza@warwick.ac.uk)\n",
    "\n",
    "$\\\\ \\ \\\\ \\ \\\\ $\n",
    "\n"
   ]
  },
  {
   "cell_type": "markdown",
   "metadata": {},
   "source": [
    "## 5. Other compartmental models \n",
    "\n"
   ]
  },
  {
   "cell_type": "markdown",
   "metadata": {},
   "source": [
    "#### SIS dynamics\n",
    "\n",
    "\n",
    "<img src=\"img/SIS.png\" style=\"width: 20%;\"/>\n",
    "\n",
    "### *$\\rightarrow$Try it yourself*\n",
    "\n",
    "- Copy the code from the SIR model above, and modify it to produce an implementation of the SIS model. Since there is no Recovered class in the SIS model, you should only have a two dimensional system of ODEs.\n",
    "- Check the longterm dynamics of this model. How do they differ from an SIR?"
   ]
  },
  {
   "cell_type": "markdown",
   "metadata": {},
   "source": [
    "### <font color='red'> $\\rightarrow$ SOLUTION: </font>"
   ]
  },
  {
   "cell_type": "code",
   "execution_count": 50,
   "metadata": {},
   "outputs": [
    {
     "data": {
      "image/png": "[encoded data removed]",
      "text/plain": [
       "Plot with title \"SIS dynamics\""
      ]
     },
     "metadata": {},
     "output_type": "display_data"
    }
   ],
   "source": [
    "library(deSolve)\n",
    "sis <- function(time, state, parameters) {\n",
    "  with(as.list(c(state, parameters)), {\n",
    "    dS <- gamma*I - beta*S*I\n",
    "    dI <-  beta*S*I - gamma*I\n",
    "    return(list(c(dS, dI)))\n",
    "  })\n",
    "}\n",
    "\n",
    "parameters <- c(beta=.8,gamma=.3)\n",
    "results <- ode(y=c(S=1-1e-5,I=1e-5), times=seq(0,356*1,by=1), func=sis, parms=parameters)\n",
    "\n",
    "df<-as.data.frame(results)\n",
    "\n",
    "plot(df[,1],df[,2],type=\"l\",col=\"blue\",lwd=3,xlab=\"Time\",ylab=\"Density\",main=\"SIS dynamics\",ylim=c(0,1))\n",
    "lines(df[,1],df[,3],col=\"red\",lwd=3)\n",
    "legend(\"right\",c(\"S\",\"I\"),fill=c(\"blue\",\"red\",\"green\")\n",
    ")"
   ]
  },
  {
   "cell_type": "markdown",
   "metadata": {},
   "source": [
    "#### SEIR dynamics\n",
    "\n",
    "For many important infections there is a significant incubation period during which the individual is infected but not yet infectious. During this period the individual is in the Exposed compartment ($E$). Once the incubation period is over, the individual moves to the pool of infecteds $I$.\n",
    "<img src=\"img/SEIR.png\" style=\"width: 40%;\"/>\n",
    "\n",
    "### *$\\rightarrow$Try it yourself*\n",
    "- Copy the code from the SIR example above and modify it to obtain an implementation of the SEIR model. In this case we have four compartments and so your ODE model should have four equations.\n",
    "- How does including the incubation period enfluence the disease dynamics? Compare to an SIR."
   ]
  },
  {
   "cell_type": "code",
   "execution_count": 55,
   "metadata": {},
   "outputs": [
    {
     "data": {
      "image/png": "[encoded data removed]",
      "text/plain": [
       "Plot with title \"Basic SEIR dynamics\""
      ]
     },
     "metadata": {},
     "output_type": "display_data"
    }
   ],
   "source": [
    "library(deSolve)\n",
    "sir <- function(time, state, parameters) {\n",
    "  with(as.list(c(state, parameters)), {\n",
    "    dS <- -beta*S*I\n",
    "    dE <- beta*S*I - sigma*E\n",
    "    dI <- sigma*E - gamma*I\n",
    "    dR <- gamma*I\n",
    "    return(list(c(dS, dE, dI, dR)))\n",
    "  })\n",
    "}\n",
    "\n",
    "parameters <- c(beta=.8,sigma=.2,gamma=.1)\n",
    "results <- ode(y=c(S=1-1e-5,E=.0,I=1e-5,R=.0), times=seq(0,356*1,by=1), func=sir, parms=parameters)\n",
    "\n",
    "df<-as.data.frame(results)\n",
    "plot(df[,1],df[,2],type=\"l\",col=\"blue\",lwd=3,xlab=\"Time\",ylab=\"Density\",main=\"Basic SEIR dynamics\",ylim=c(0,1))\n",
    "lines(df[,1],df[,3],col=\"red\",lwd=3)\n",
    "lines(df[,1],df[,4],col=\"green\",lwd=3)\n",
    "legend(\"right\",c(\"S\",\"I\",\"R\"),fill=c(\"blue\",\"red\",\"green\")\n",
    ")"
   ]
  },
  {
   "cell_type": "markdown",
   "metadata": {},
   "source": [
    "## 6. SIR with demography  \n",
    "\n",
    "\n",
    "\n",
    "### *$\\rightarrow$Try it yourself*\n",
    "- In an SIR with demography, does the equation $\\sum_{C_i\\in Classes} \\frac{dC_i}{dt} = 0$ (see *section 3.2*) hold? Explain.\n",
    "\n",
    "- In the next cell, write an implementation of the SIR model with demography by adding birth and death events to the SIR model without demography. Solve the equations using `desolve` and plot your solution for a few values of $\\mu$. In general sensible values of $\\mu$ will be somewhere around $\\frac{1}{70*365}$, depending on the population we are modelling. Why do you think this is?"
   ]
  },
  {
   "cell_type": "markdown",
   "metadata": {},
   "source": [
    "### <font color='red'> $\\rightarrow$ SOLUTION: </font>"
   ]
  },
  {
   "cell_type": "code",
   "execution_count": 54,
   "metadata": {},
   "outputs": [
    {
     "data": {
      "image/png": "[encoded data removed]",
      "text/plain": [
       "Plot with title \"SIR with demography\""
      ]
     },
     "metadata": {},
     "output_type": "display_data"
    }
   ],
   "source": [
    "library(deSolve)\n",
    "sir <- function(time, state, parameters) {\n",
    "  with(as.list(c(state, parameters)), {\n",
    "    dS <-  mu - beta*S*I - mu*S\n",
    "    dI <-  beta*S*I - gamma*I - mu*I\n",
    "    dR <-  gamma*I - mu*R\n",
    "    return(list(c(dS, dI, dR)))\n",
    "  })\n",
    "}\n",
    "\n",
    "results <- ode(y=c(S=1-1e-5, I=1e-5, R=.0), times=seq(0,80,by=1), func=sir, parms=c(beta=1.2,gamma=.2,mu=1/(70*356)))\n",
    "\n",
    "df<-as.data.frame(results)\n",
    "plot(df[,1],df[,2],type=\"l\",col=\"blue\",lwd=3,xlab=\"Time\",ylab=\"Density\",main=\"SIR with demography\")\n",
    "lines(df[,1],df[,3],col=\"red\",lwd=3)\n",
    "lines(df[,1],df[,4],col=\"green\",lwd=3)\n",
    "legend(\"right\",c(\"S\",\"I\",\"R\"),fill=c(\"blue\",\"red\",\"green\")\n",
    ")"
   ]
  },
  {
   "cell_type": "markdown",
   "metadata": {},
   "source": [
    "## 7. Equilibrium and stability \n",
    "\n",
    "\n",
    "### *$\\rightarrow$Try it yourself*\n",
    "Using the code you wrote to implement the SIR model with demography, find parameter choices $(\\beta , \\gamma, \\mu)$ so that the system tends towards:\n",
    "\n",
    "- A disease-free equilibrium    \n",
    " \n",
    " <font color='red'>  SOLUTION: $\\beta=.8,\\gamma=.9,\\mu=1/(70*365)$    So $\\beta <\\gamma$</font>\n",
    "- An endemic equilibrium\n",
    "<font color='red'> $\\rightarrow$ SOLUTION: $\\beta =2,\\gamma =.2, \\mu=10/(70*356)$</font>\n"
   ]
  },
  {
   "cell_type": "markdown",
   "metadata": {},
   "source": [
    "## 8. Going further\n",
    "\n",
    "- We suppose we have two outbreks with the same $\\beta$ \n",
    "    - What could be said about them if we also have $\\beta > \\gamma$?\n",
    "   <font color='red'>   In this case, $R_0$ is greater than 1, so the infection will invade the population </font>\n",
    "    \n",
    "    - Try plotting outbreaks with $\\gamma=\\frac{1}{5}$ and $\\gamma=\\frac{1}{300}$ and compare their behavior. Think about the qualitative difference between these infections and how it impacts their longterm dynamics. You should try this out for a few values of $\\beta$\n",
    "\n",
    "\n",
    "- What could be said about the infectious process modelled by the following schematic? Write the corresponding equations and implement the model.\n",
    "\n",
    "<img src=\"img/SI_withdemography2.png\" style=\"width: 20%;\"/>\n",
    "\n",
    "### <font color='red'> $\\rightarrow$ SOLUTION: </font>\n",
    "$\\left\\{\\begin{array}{ll}\n",
    "          \\frac{dS}{dt}= - \\beta SI - \\mu S\\\\\n",
    "          \\frac{dI}{dt}= \\beta SI - \\mu I\n",
    "        \\end{array}\n",
    "      \\right.$\n",
    "\n",
    "- Consider the following  set of equations:\n",
    "\n",
    "<center>$\\left\\{\\begin{array}{ll}\n",
    "          \\frac{dS}{dt}= - \\beta SI + \\gamma_1 I - vR \\\\\n",
    "          \\frac{dI}{dt}= \\beta SI - (\\gamma_1+\\gamma_2) I \\\\\n",
    "          \\frac{dR}{dt}= vR + \\gamma_2 I \n",
    "        \\end{array}\n",
    "      \\right.$</center>\n",
    "      \n",
    "   - What processes are happening in this model? Try drawing a diagram of the compartments.\n",
    "   \n",
    "   ### <font color='red'> $\\rightarrow$ SOLUTION: </font>\n",
    "\n",
    "<img src=\"img/SIR_withGamma1Gamma2.png\" style=\"width: 30%;\"/>\n",
    "\n",
    "   - What could $v$ represent?  <font color='red'>The rate of vaccination</font>\n",
    "   - We would like to add demography to this model. Suppose that the overall birth rate is $b$ and that out of each cohort of $b$ births, a total of $m$ newborns are born with a lifelong innate immunity to the infection. As usual, use $\\mu$ to denote the natural death rate. Draw the model, update the corresponding equations, and implement the model in code.\n",
    "   \n",
    "   \n",
    "### <font color='red'> $\\rightarrow$ SOLUTION: </font>\n",
    "\n",
    "<img src=\"img/SIR_withGamma1Gamma2.png\" style=\"width: 30%;\"/>\n",
    "<img src=\"img/SIR_withGamma1Gamma2B.png\" style=\"width:35%;\"/>\n",
    "\n",
    "<center>$\\left\\{\\begin{array}{ll}\n",
    "          \\frac{dS}{dt}= (b-m) - \\beta SI + \\gamma_1 I - vR - \\mu S\\\\\n",
    "          \\frac{dI}{dt}= \\beta SI - (\\gamma_1+\\gamma_2) I - \\mu I\\\\\n",
    "          \\frac{dR}{dt}= m + vR + \\gamma_2 I - \\mu R\n",
    "        \\end{array}\n",
    "      \\right.$</center>\n"
   ]
  },
  {
   "cell_type": "code",
   "execution_count": 48,
   "metadata": {},
   "outputs": [
    {
     "data": {
      "image/png": "[encoded data removed]",
      "text/plain": [
       "plot without title"
      ]
     },
     "metadata": {},
     "output_type": "display_data"
    }
   ],
   "source": [
    "library(deSolve)\n",
    "sir <- function(time, state, parameters) {\n",
    "  with(as.list(c(state, parameters)), {\n",
    "    dS <-  (b-m) - beta*S*I +gamma1*I -v*S - mu*S\n",
    "    dI <-  beta*S*I - (gamma1+gamma2)*I - mu*I\n",
    "    dR <-  m + v*S + gamma2*I - mu*R\n",
    "    return(list(c(dS, dI, dR)))\n",
    "  })\n",
    "}\n",
    "\n",
    "results <- ode(y=c(S=1-1e-5, I=1e-5, R=0), times=seq(0,356*1,by=1), func=sir, \n",
    "               parms=c(beta=.8,gamma1=.1,gamma2=.02,mu=1/(70*356),b=1/(70*356),m=.01/(70*356),v=1e-3))\n",
    "\n",
    "df<-as.data.frame(results)\n",
    "plot(df[,1],df[,2],type=\"l\",col=\"blue\",lwd=3,xlab=\"Time\",ylab=\"Density\",ylim=c(0,1))\n",
    "lines(df[,1],df[,3],col=\"red\",lwd=3)\n",
    "lines(df[,1],df[,4],col=\"green\",lwd=3)\n",
    "legend(\"right\",c(\"S\",\"I\",\"R\"),fill=c(\"blue\",\"red\",\"green\")\n",
    ")"
   ]
  },
  {
   "cell_type": "markdown",
   "metadata": {},
   "source": [
    "      \n",
    "   - What parameter choices will keep the population size fixed with time?  <font color='red'>Any parameter choice with $b=\\mu$ </font>"
   ]
  },
  {
   "cell_type": "markdown",
   "metadata": {},
   "source": [
    "- Model and plot the dynamics of an SIRS with demography"
   ]
  },
  {
   "cell_type": "code",
   "execution_count": 60,
   "metadata": {},
   "outputs": [
    {
     "data": {
      "image/png": "[encoded data removed]",
      "text/plain": [
       "Plot with title \"SIRS with demography\""
      ]
     },
     "metadata": {},
     "output_type": "display_data"
    }
   ],
   "source": [
    "## SIRS dynamics\n",
    "library(deSolve)\n",
    "sir <- function(time, state, parameters) {\n",
    "  with(as.list(c(state, parameters)), {\n",
    "    dS <- mu -beta*S*I -mu*S + omega*R\n",
    "    dI <- beta*S*I - gamma*I -nu*I\n",
    "    dR <- gamma*I - omega*R - mu*R\n",
    "    return(list(c(dS, dI, dR)))\n",
    "  })\n",
    "}\n",
    "\n",
    "parameters <- c(beta=.8,gamma=.1,omega=.05,mu=1/(70*356),nu=1/(70*356))\n",
    "results <- ode(y=c(S=1-1e-5,I=1e-5,R=.0), times=seq(0,356*1,by=1), func=sir, parms=parameters)\n",
    "\n",
    "df<-as.data.frame(results)\n",
    "plot(df[,1],df[,2],type=\"l\",col=\"blue\",lwd=3,xlab=\"Time\",ylab=\"Density\",main=\"SIRS with demography\",ylim=c(0,1))\n",
    "lines(df[,1],df[,3],col=\"red\",lwd=3)\n",
    "lines(df[,1],df[,4],col=\"green\",lwd=3)\n",
    "legend(\"right\",c(\"S\",\"I\",\"R\"),fill=c(\"blue\",\"red\",\"green\")\n",
    ")\n"
   ]
  },
  {
   "cell_type": "markdown",
   "metadata": {},
   "source": [
    "- Model the dynamics of an SEIR with demography and disease induced mortality"
   ]
  },
  {
   "cell_type": "markdown",
   "metadata": {},
   "source": [
    "### <font color='red'> $\\rightarrow$ SOLUTION: </font>"
   ]
  },
  {
   "cell_type": "code",
   "execution_count": 56,
   "metadata": {},
   "outputs": [
    {
     "data": {
      "image/png": "[encoded data removed]",
      "text/plain": [
       "plot without title"
      ]
     },
     "metadata": {},
     "output_type": "display_data"
    }
   ],
   "source": [
    "## SEIR dynamics\n",
    "\n",
    "library(deSolve)\n",
    "sir <- function(time, state, parameters) {\n",
    "  with(as.list(c(state, parameters)), {\n",
    "    dS <- mu -beta*S*I -mu*S\n",
    "    dE <- beta*S*I - sigma*E - mu*E\n",
    "    dI <- sigma*E - gamma*I - mu*I -nu*I\n",
    "    dR <- gamma*I - mu*R\n",
    "    return(list(c(dS, dE, dI, dR)))\n",
    "  })\n",
    "}\n",
    "\n",
    "parameters <- c(beta=.8,sigma=.2,gamma=.1,mu=1/(70*356),nu=1e-3)\n",
    "results <- ode(y=c(S=1-1e-5,E=.0,I=1e-5,R=.0), times=seq(0,356*1,by=1), func=sir, parms=parameters)\n",
    "\n",
    "df<-as.data.frame(results)\n",
    "plot(df[,1],df[,2],type=\"l\",col=\"blue\",lwd=3,xlab=\"Time\",ylab=\"Density\",ylim=c(0,1))\n",
    "lines(df[,1],df[,3],col=\"red\",lwd=3)\n",
    "lines(df[,1],df[,4],col=\"green\",lwd=3)\n",
    "legend(\"right\",c(\"S\",\"I\",\"R\"),fill=c(\"blue\",\"red\",\"green\")\n",
    ")"
   ]
  }
 ],
 "metadata": {
  "kernelspec": {
   "display_name": "R",
   "language": "R",
   "name": "ir"
  },
  "language_info": {
   "codemirror_mode": "r",
   "file_extension": ".r",
   "mimetype": "text/x-r-source",
   "name": "R",
   "pygments_lexer": "r",
   "version": "3.6.1"
  }
 },
 "nbformat": 4,
 "nbformat_minor": 2
}
